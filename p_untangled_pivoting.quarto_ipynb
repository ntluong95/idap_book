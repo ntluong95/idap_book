{
  "cells": [
    {
      "cell_type": "markdown",
      "metadata": {},
      "source": [
        "---\n",
        "title: 'Reshaping Data with melt() and pivot()'\n",
        "---\n",
        "\n",
        "\n",
        "\n",
        "\n",
        "\n",
        "## Packages\n"
      ],
      "id": "2697a8b1"
    },
    {
      "cell_type": "code",
      "metadata": {},
      "source": [
        "import pandas as pd"
      ],
      "id": "ecab09c6",
      "execution_count": null,
      "outputs": []
    },
    {
      "cell_type": "markdown",
      "metadata": {},
      "source": [
        "## Data\n",
        "\n",
        "Run the code below to load and define the datasets to be used in this lesson.\n"
      ],
      "id": "731b9619"
    },
    {
      "cell_type": "code",
      "metadata": {},
      "source": [
        "# Temperatures dataset\n",
        "temperatures = pd.DataFrame({\n",
        "    \"country\": [\"Sweden\", \"Denmark\", \"Norway\"],\n",
        "    \"1994\": [1, 2, 3],\n",
        "    \"1995\": [3, 4, 5],\n",
        "    \"1996\": [5, 6, 7],\n",
        "})\n",
        "\n",
        "# Fuels Wide dataset\n",
        "fuels_wide = pd.read_csv(\n",
        "    \"https://raw.githubusercontent.com/the-graph-courses/idap_book/main/data/oil_per_capita_wide.csv\"\n",
        ")\n",
        "\n",
        "# Eurostat Births Wide dataset\n",
        "euro_births_wide = pd.read_csv(\n",
        "    \"https://raw.githubusercontent.com/the-graph-courses/idap_book/main/data/euro_births_wide.csv\"\n",
        ")\n",
        "\n",
        "# Contracts dataset\n",
        "contracts = pd.read_csv(\n",
        "    \"https://raw.githubusercontent.com/the-graph-courses/idap_book/main/data/chicago_contracts_20_23.csv\"\n",
        ")\n",
        "\n",
        "# Population dataset\n",
        "population = pd.read_csv(\n",
        "    \"https://raw.githubusercontent.com/the-graph-courses/idap_book/main/data/tidyr_population.csv\"\n",
        ")"
      ],
      "id": "15444533",
      "execution_count": null,
      "outputs": []
    },
    {
      "cell_type": "markdown",
      "metadata": {},
      "source": [
        "## Introduction\n",
        "\n",
        "Reshaping is a data manipulation technique that involves re-orienting the rows and columns of a dataset. This is often required to make data easier to analyze or understand.\n",
        "\n",
        "In this lesson, we will cover how to effectively reshape data using `pandas` functions.\n",
        "\n",
        "## Learning Objectives\n",
        "\n",
        "- Understand what wide data format is and what long data format is.\n",
        "- Learn how to reshape wide data to long data using `melt()`.\n",
        "- Learn how to reshape long data to wide data using `pivot()`.\n",
        "\n",
        "## What Do \"Wide\" and \"Long\" Mean?\n",
        "\n",
        "The terms \"wide\" and \"long\" are best understood in the context of example datasets. Let's take a look at some now.\n",
        "\n",
        "Imagine that you have three products for which you collect sales data over three months.\n",
        "\n",
        "**Wide Format:**\n",
        "\n",
        "| Product | Jan | Feb | Mar |\n",
        "|---------|-----|-----|-----|\n",
        "| A       | 100 | 120 | 110 |\n",
        "| B       | 90  | 95  | 100 |\n",
        "| C       | 80  | 85  | 90  |\n",
        "\n",
        "---\n",
        "\n",
        "**Long Format:**\n",
        "\n",
        "| Product | Month | Sales |\n",
        "|---------|-------|-------|\n",
        "| A       | Jan   | 100   |\n",
        "| A       | Feb   | 120   |\n",
        "| A       | Mar   | 110   |\n",
        "| B       | Jan   | 90    |\n",
        "| B       | Feb   | 95    |\n",
        "| B       | Mar   | 100   |\n",
        "| C       | Jan   | 80    |\n",
        "| C       | Feb   | 85    |\n",
        "| C       | Mar   | 90    |\n",
        "\n",
        "Take a minute to study the two datasets to make sure you understand the relationship between them.\n",
        "\n",
        "In the **wide dataset**, each observational unit (each product) occupies only one row, and each measurement (sales in Jan, Feb, Mar) is in a separate column.\n",
        "\n",
        "In the **long dataset**, on the other hand, each observational unit (each product) occupies multiple rows, with one row for each measurement.\n",
        "\n",
        "---\n",
        "\n",
        "Here's another example with mock data, where the observational units are countries:\n",
        "\n",
        "**Long Format:**\n",
        "\n",
        "| Country | Year | GDP   |\n",
        "|---------|------|-------|\n",
        "| USA     | 2020 | 21433 |\n",
        "| USA     | 2021 | 22940 |\n",
        "| China   | 2020 | 14723 |\n",
        "| China   | 2021 | 17734 |\n",
        "\n",
        "**Wide Format:**\n",
        "\n",
        "| Country | GDP_2020 | GDP_2021 |\n",
        "|---------|----------|----------|\n",
        "| USA     | 21433    | 22940    |\n",
        "| China   | 14723    | 17734    |\n",
        "\n",
        "---\n",
        "\n",
        "The examples above are both time-series datasets because the measurements are repeated across time. But the concepts of wide and long are relevant to other kinds of data too.\n",
        "\n",
        "Consider the example below, showing the number of employees in different departments of three companies:\n",
        "\n",
        "**Wide Format:**\n",
        "\n",
        "| Company | HR  | Sales | IT  |\n",
        "|---------|-----|-------|-----|\n",
        "| A       | 10  | 20    | 15  |\n",
        "| B       | 8   | 25    | 20  |\n",
        "| C       | 12  | 18    | 22  |\n",
        "\n",
        "**Long Format:**\n",
        "\n",
        "| Company | Department | Employees |\n",
        "|---------|------------|-----------|\n",
        "| A       | HR         | 10        |\n",
        "| A       | Sales      | 20        |\n",
        "| A       | IT         | 15        |\n",
        "| B       | HR         | 8         |\n",
        "| B       | Sales      | 25        |\n",
        "| B       | IT         | 20        |\n",
        "| C       | HR         | 12        |\n",
        "| C       | Sales      | 18        |\n",
        "| C       | IT         | 22        |\n",
        "\n",
        "In the wide dataset, each observational unit (each company) occupies only one row, with the repeated measurements (number of employees in different departments) spread across multiple columns.\n",
        "\n",
        "In the long dataset, each observational unit is spread over multiple rows.\n",
        "\n",
        "::: {.callout-note title=\"Vocab\"}\n",
        "The **observational units**, sometimes called **statistical units**, are the primary entities or items described by the dataset.\n",
        "\n",
        "In the first example, the observational units were products; in the second example, countries; and in the third example, companies.\n",
        ":::\n",
        "\n",
        "::: {.callout-tip title=\"Practice\"}\n",
        "\n",
        "## Practice Q: Wide or Long?\n",
        "\n",
        "Consider the `temperatures` dataset created earlier:\n"
      ],
      "id": "2f7120d9"
    },
    {
      "cell_type": "code",
      "metadata": {},
      "source": [
        "temperatures"
      ],
      "id": "abbd47ca",
      "execution_count": null,
      "outputs": []
    },
    {
      "cell_type": "markdown",
      "metadata": {},
      "source": [
        "Is this data in a wide or long format?\n"
      ],
      "id": "ef24059f"
    },
    {
      "cell_type": "code",
      "metadata": {},
      "source": [
        "# Write your answer here\n",
        "# The data is in a wide format."
      ],
      "id": "d04bdfdd",
      "execution_count": null,
      "outputs": []
    },
    {
      "cell_type": "markdown",
      "metadata": {},
      "source": [
        ":::\n",
        "\n",
        "## When Should You Use Wide vs. Long Data?\n",
        "\n",
        "The truth is, it really depends on what you want to do! The wide format is great for *displaying data* because it's easy to visually compare values this way. Long data is best for some data analysis tasks, like grouping and plotting.\n",
        "\n",
        "It is essential to know how to switch from one format to the other easily. Switching from the wide to the long format, or the other way around, is called **reshaping**.\n",
        "\n",
        "## From Wide to Long\n",
        "\n",
        "To practice reshaping from a wide to a long format, we'll consider data from Our World in Data on fossil fuel consumption per capita. You can find the data [here](https://ourworldindata.org/grapher/fossil-fuels-per-capita).\n",
        "\n",
        "Below, we view this data on fossil fuel consumption per capita:\n"
      ],
      "id": "8c2a05f4"
    },
    {
      "cell_type": "code",
      "metadata": {},
      "source": [
        "fuels_wide"
      ],
      "id": "18ac1315",
      "execution_count": null,
      "outputs": []
    },
    {
      "cell_type": "markdown",
      "metadata": {},
      "source": [
        "We observe that each observational unit (each country) occupies only one row, with the repeated measurements of fossil fuel consumption (in kilowatt-hour equivalents) spread out across multiple columns. Hence, this dataset is in a wide format.\n",
        "\n",
        "To convert it to a long format, we can use the convenient `melt` function. Within `melt`, we define which columns we want to reshape:\n"
      ],
      "id": "47432366"
    },
    {
      "cell_type": "code",
      "metadata": {},
      "source": [
        "fuels_long = fuels_wide.melt(id_vars=[\"Entity\", \"Code\"], value_vars=fuels_wide.columns[2:])\n",
        "fuels_long"
      ],
      "id": "f2d563cc",
      "execution_count": null,
      "outputs": []
    },
    {
      "cell_type": "markdown",
      "metadata": {},
      "source": [
        "Very easy!\n",
        "\n",
        "Let's break down the code:\n",
        "\n",
        "- **`id_vars`** refers to the column(s) that will not be reshaped. In this case, it's the \"Entity\" and \"Code\" columns.\n",
        "- **`value_vars`** is the column(s) that will be reshaped. In this case, it's the year columns.\n",
        "\n",
        "The years are now indicated in the variable `variable`, and all the consumption values occupy a single variable, `value`. We may wish to rename the `variable` column to `year`, and the `value` column to `oil_consumption`. This can be done directly in the `melt` function:\n"
      ],
      "id": "d150ef7f"
    },
    {
      "cell_type": "code",
      "metadata": {},
      "source": [
        "fuels_long = fuels_wide.melt(\n",
        "    id_vars=['Entity', 'Code'],\n",
        "    value_vars=fuels_wide.columns[2:],\n",
        "    var_name='year',\n",
        "    value_name='oil_consumption'\n",
        ")\n",
        "fuels_long"
      ],
      "id": "068f1614",
      "execution_count": null,
      "outputs": []
    },
    {
      "cell_type": "markdown",
      "metadata": {},
      "source": [
        "You may also want to remove the `y_` in front of each year. This can be achieved with a string operation. We'll also arrange the data by country and year:\n"
      ],
      "id": "7d55b1d3"
    },
    {
      "cell_type": "code",
      "metadata": {},
      "source": [
        "fuels_long['year'] = fuels_long['year'].str.replace('y_', '').astype(int)\n",
        "fuels_long = fuels_long.sort_values(by=['Entity', 'year'])\n",
        "fuels_long"
      ],
      "id": "cfc68dd6",
      "execution_count": null,
      "outputs": []
    },
    {
      "cell_type": "markdown",
      "metadata": {},
      "source": [
        "Here's what we did above:\n",
        "\n",
        "- Used `str.replace()` to remove the `y_` prefix from each year.\n",
        "- Converted the `year` column to integers using `astype(int)`.\n",
        "- Sorted the data by \"Entity\" and \"year\" using `sort_values()`.\n",
        "\n",
        "::: {.callout-tip title=\"Practice\"}\n",
        "\n",
        "## Practice Q: Temperatures to Long\n",
        "\n",
        "Convert the `temperatures` dataset created above into a long format. Your answer should have the following column names: **\"country\"**, **\"year\"**, and **\"avgtemp\"**.\n"
      ],
      "id": "c8901fbf"
    },
    {
      "cell_type": "code",
      "metadata": {},
      "source": [
        "# Your code here\n",
        "temperatures_long = temperatures.melt(\n",
        "    id_vars=[\"country\"], var_name=\"year\", value_name=\"avgtemp\"\n",
        ")\n",
        "temperatures_long"
      ],
      "id": "b510455c",
      "execution_count": null,
      "outputs": []
    },
    {
      "cell_type": "markdown",
      "metadata": {},
      "source": [
        ":::\n",
        "\n",
        "::: {.callout-tip title=\"Practice\"}\n",
        "\n",
        "## Practice Q: Eurostat Births to Long\n",
        "\n",
        "For this practice question, you will use the `euro_births_wide` dataset from [Eurostat](https://ec.europa.eu/eurostat/databrowser/view/tps00204/default/table). It shows the annual number of births in 50 European countries:\n"
      ],
      "id": "71d644e5"
    },
    {
      "cell_type": "code",
      "metadata": {},
      "source": [
        "euro_births_wide"
      ],
      "id": "71750602",
      "execution_count": null,
      "outputs": []
    },
    {
      "cell_type": "markdown",
      "metadata": {},
      "source": [
        "The data is in a wide format. Convert it to a long format DataFrame that has the following column names: **\"country\"**, **\"year\"**, and **\"births_count\"**.\n"
      ],
      "id": "e261d902"
    },
    {
      "cell_type": "code",
      "metadata": {},
      "source": [
        "# Your code here\n",
        "births_long = euro_births_wide.melt(\n",
        "    id_vars=[\"country\"], var_name=\"year\", value_name=\"births_count\"\n",
        ")\n",
        "births_long"
      ],
      "id": "9a51033e",
      "execution_count": null,
      "outputs": []
    },
    {
      "cell_type": "markdown",
      "metadata": {},
      "source": [
        ":::\n",
        "\n",
        "## From Long to Wide\n",
        "\n",
        "Now you know how to reshape from wide to long with `melt()`. How about going the other way, from long to wide? For this, you can use the `pivot()` function.\n",
        "\n",
        "But before we consider how to use this function to manipulate long data, let's first consider *where* you're likely to run into long data.\n",
        "\n",
        "While wide data tends to come from external sources (as we have seen above), long data, on the other hand, is likely to be created by *you* while data wrangling, especially in the course of grouped aggregations.\n",
        "\n",
        "Let's see an example of this now.\n",
        "\n",
        "We will use a dataset of contracts granted by the city of Chicago from 2020 to 2023. You can find more information about the data [here](https://data.cityofchicago.org/Administration-Finance/Contracts/rsxa-ify5/).\n"
      ],
      "id": "46ca3bac"
    },
    {
      "cell_type": "code",
      "metadata": {},
      "source": [
        "contracts"
      ],
      "id": "1d82aacc",
      "execution_count": null,
      "outputs": []
    },
    {
      "cell_type": "markdown",
      "metadata": {},
      "source": [
        "Each row corresponds to one contract, and we have each contract's ID number, the year in which it was granted, the amount of the contract, and the vendor's name and address, among other variables.\n",
        "\n",
        "Now, consider the following grouped summary of the `contracts` dataset, which shows the number of contracts by state of the vendor in each year:\n"
      ],
      "id": "ba906bbb"
    },
    {
      "cell_type": "code",
      "metadata": {},
      "source": [
        "contracts_summary = contracts.groupby(\"state\")[\"year\"].value_counts().reset_index(name='count')\n",
        "contracts_summary"
      ],
      "id": "8b07aeb2",
      "execution_count": null,
      "outputs": []
    },
    {
      "cell_type": "markdown",
      "metadata": {},
      "source": [
        "The output of this grouped operation is a quintessentially \"long\" dataset. Each observational unit (each state) occupies multiple rows, with one row for each measurement (each year).\n",
        "\n",
        "Now, let's see how to convert such long data into a wide format with `pivot()`.\n",
        "\n",
        "The code is quite straightforward:\n"
      ],
      "id": "3fe20fac"
    },
    {
      "cell_type": "code",
      "metadata": {},
      "source": [
        "contracts_wide = contracts_summary.pivot(\n",
        "    index=\"state\", columns=\"year\", values=\"count\"\n",
        ").reset_index()\n",
        "contracts_wide"
      ],
      "id": "1d226841",
      "execution_count": null,
      "outputs": []
    },
    {
      "cell_type": "markdown",
      "metadata": {},
      "source": [
        "As you can see, `pivot()` has three important arguments:\n",
        "\n",
        "- **`index`** defines which column(s) to use as the new index. In our case, it's the \"state\" since we want each row to represent one state.\n",
        "- **`columns`** identifies which variable to use to define column names in the wide format. In our case, it's the \"year\". You can see that the years are now the column names.\n",
        "- **`values`** specifies which values will become the core of the wide data format. In our case, it's the number of contracts \"count\".\n",
        "\n",
        "You might also want to have the *years* be your primary observational units, with each year occupying one row. This can be carried out similarly to the above example, but with `year` as the index and `state` as the columns:\n"
      ],
      "id": "40b44bd4"
    },
    {
      "cell_type": "code",
      "metadata": {},
      "source": [
        "contracts_wide_year = contracts_summary.pivot(\n",
        "    index=\"year\", columns=\"state\", values=\"count\"\n",
        ").reset_index()\n",
        "contracts_wide_year"
      ],
      "id": "da36550e",
      "execution_count": null,
      "outputs": []
    },
    {
      "cell_type": "markdown",
      "metadata": {},
      "source": [
        "Here, the unique observation units (our rows) are now the years (2020, 2021, 2022, 2023).\n",
        "\n",
        "::: {.callout-tip title=\"Practice\"}\n",
        "\n",
        "## Practice Q: Temperatures back to Wide\n",
        "\n",
        "Convert the long `temperatures_long` dataset you created above back to a wide format. Your answer should have the following column names: **\"country\"**, **\"1994\"**, **\"1995\"**, and **\"1996\"**.\n"
      ],
      "id": "5dda1f5b"
    },
    {
      "cell_type": "code",
      "metadata": {},
      "source": [
        "# Your code here\n",
        "temperatures_wide = temperatures_long.pivot(\n",
        "    index=\"country\", columns=\"year\", values=\"avgtemp\"\n",
        ").reset_index()\n",
        "temperatures_wide"
      ],
      "id": "3791f24d",
      "execution_count": null,
      "outputs": []
    },
    {
      "cell_type": "markdown",
      "metadata": {},
      "source": [
        ":::\n",
        "\n",
        "::: {.callout-tip title=\"Practice\"}\n",
        "\n",
        "## Practice Q: Population to Wide\n",
        "\n",
        "The `population` dataset shows the populations of 219 countries over time.\n",
        "\n",
        "Reshape this data into a wide format. Your answer should have 219 rows and multiple columns representing different years.\n"
      ],
      "id": "e24465a2"
    },
    {
      "cell_type": "code",
      "metadata": {},
      "source": [
        "population"
      ],
      "id": "9cc38ea0",
      "execution_count": null,
      "outputs": []
    },
    {
      "cell_type": "code",
      "metadata": {},
      "source": [
        "# Your code here\n",
        "\n",
        "# Reshape the long data into wide format\n",
        "population_wide = population.pivot(\n",
        "    index=\"country\", columns=\"year\", values=\"population\"\n",
        ").reset_index()\n",
        "\n",
        "# Display the wide format data\n",
        "population_wide"
      ],
      "id": "2db3d239",
      "execution_count": null,
      "outputs": []
    },
    {
      "cell_type": "markdown",
      "metadata": {},
      "source": [
        ":::\n",
        "\n",
        "## Reshaping Can Be Hard\n",
        "\n",
        "We have mostly looked at very simple examples of reshaping here, but in the wild, reshaping can be very difficult to do accurately.\n",
        "\n",
        "When you run into such cases, we recommend looking at the [official documentation](https://pandas.pydata.org/docs/user_guide/reshaping.html) of reshaping from the pandas team, as it is quite rich in examples.\n",
        "\n",
        "## Wrap-Up\n",
        "\n",
        "Congratulations! You've mastered the art of reshaping data with pandas.\n",
        "\n",
        "You now understand the differences between wide and long formats and can skillfully use `melt()` and `pivot()` to transform your data as needed.\n",
        "\n",
        "Remember, there's no universally \"best\" format—it depends on your specific analysis or visualization needs. With these skills, you're now equipped to handle data in any shape it comes in. Keep practicing with different datasets to reinforce your learning!\n",
        "\n",
        "## Solution Q: Wide or Long?\n",
        "\n",
        "The data is in a wide format.\n",
        "\n",
        "## Solution Q: Temperatures to Long\n"
      ],
      "id": "8a2e21a6"
    },
    {
      "cell_type": "code",
      "metadata": {},
      "source": [
        "# Melt the wide data into long format\n",
        "temperatures_long = temperatures.melt(\n",
        "    id_vars=[\"country\"], var_name=\"year\", value_name=\"avgtemp\"\n",
        ")\n",
        "\n",
        "# Display the long format data\n",
        "temperatures_long"
      ],
      "id": "b07a57f2",
      "execution_count": null,
      "outputs": []
    },
    {
      "cell_type": "markdown",
      "metadata": {},
      "source": [
        "## Solution Q: Eurostat Births to Long\n"
      ],
      "id": "2e46c2de"
    },
    {
      "cell_type": "code",
      "metadata": {},
      "source": [
        "# Melt the wide data into long format\n",
        "births_long = euro_births_wide.melt(\n",
        "    id_vars=[\"country\"], var_name=\"year\", value_name=\"births_count\"\n",
        ")\n",
        "\n",
        "# Display the long format data\n",
        "births_long"
      ],
      "id": "95b54d35",
      "execution_count": null,
      "outputs": []
    },
    {
      "cell_type": "markdown",
      "metadata": {},
      "source": [
        "## Solution Q: Temperatures back to Wide\n"
      ],
      "id": "5530ffc7"
    },
    {
      "cell_type": "code",
      "metadata": {},
      "source": [
        "# Pivot the long data into wide format\n",
        "temperatures_wide = temperatures_long.pivot(\n",
        "    index=\"country\", columns=\"year\", values=\"avgtemp\"\n",
        ").reset_index()\n",
        "\n",
        "# Display the wide format data\n",
        "temperatures_wide"
      ],
      "id": "79593eab",
      "execution_count": null,
      "outputs": []
    },
    {
      "cell_type": "markdown",
      "metadata": {},
      "source": [
        "## Solution Q: Population to Wide\n"
      ],
      "id": "e81dc380"
    },
    {
      "cell_type": "code",
      "metadata": {},
      "source": [
        "# Pivot the long data into wide format\n",
        "population_wide = population.pivot(\n",
        "    index=\"country\", columns=\"year\", values=\"population\"\n",
        ").reset_index()\n",
        "\n",
        "# Display the wide format data\n",
        "population_wide"
      ],
      "id": "72f624e6",
      "execution_count": null,
      "outputs": []
    }
  ],
  "metadata": {
    "kernelspec": {
      "name": "python3",
      "language": "python",
      "display_name": "Python 3 (ipykernel)",
      "path": "/Users/kendavidn/Dropbox/tgc_github_projects/idap_book/.venv/share/jupyter/kernels/python3"
    }
  },
  "nbformat": 4,
  "nbformat_minor": 5
}